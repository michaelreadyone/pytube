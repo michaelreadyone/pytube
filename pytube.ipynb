{
 "cells": [
  {
   "cell_type": "code",
   "execution_count": 2,
   "id": "c9eef5ee",
   "metadata": {},
   "outputs": [],
   "source": [
    "# importing the module \n",
    "from pytube import YouTube \n",
    "  \n",
    "# where to save \n",
    "SAVE_PATH = \"C:\\\\Users\\\\Mike\\\\Downloads\\\\\"\n"
   ]
  },
  {
   "cell_type": "code",
   "execution_count": 3,
   "id": "d2982807",
   "metadata": {},
   "outputs": [],
   "source": [
    "link = 'http://youtube.com/watch?v=2lAe1cqCOXo'\n",
    "yt = YouTube(link) "
   ]
  },
  {
   "cell_type": "code",
   "execution_count": 9,
   "id": "5010bf28",
   "metadata": {},
   "outputs": [],
   "source": [
    "from pytube import Playlist"
   ]
  },
  {
   "cell_type": "code",
   "execution_count": 10,
   "id": "741e746b",
   "metadata": {},
   "outputs": [],
   "source": [
    "playlist = Playlist('https://www.youtube.com/watch?v=Uz_EhDwUnRg&list=PLmOn9nNkQxJFJXLvkNsGsoCUxJLqyLGxu')"
   ]
  },
  {
   "cell_type": "code",
   "execution_count": 11,
   "id": "4f13fc6d",
   "metadata": {},
   "outputs": [
    {
     "data": {
      "text/plain": [
       "['https://www.youtube.com/watch?v=Uz_EhDwUnRg', 'https://www.youtube.com/watch?v=QrEbvTxZS04', 'https://www.youtube.com/watch?v=yT-ys2W_d9g', 'https://www.youtube.com/watch?v=tSXsAPlittQ', 'https://www.youtube.com/watch?v=pWZqvmj-Nvg', 'https://www.youtube.com/watch?v=IyTA5YSa7LA', 'https://www.youtube.com/watch?v=dvMSXmz5gPg', 'https://www.youtube.com/watch?v=SqX0JvFtlf4', 'https://www.youtube.com/watch?v=suO6zXshbh0', 'https://www.youtube.com/watch?v=c7HlM9n8Q1o', 'https://www.youtube.com/watch?v=l6Wfa2b5-Rw', 'https://www.youtube.com/watch?v=05xkpRaGECw', 'https://www.youtube.com/watch?v=69HdvYsZA0Y', 'https://www.youtube.com/watch?v=4qqMGWhcbt0', 'https://www.youtube.com/watch?v=hNFmtEisEIk', 'https://www.youtube.com/watch?v=DUrLkxsihO4', 'https://www.youtube.com/watch?v=8SXHz-kq-cY', 'https://www.youtube.com/watch?v=O69ls51gU_M', 'https://www.youtube.com/watch?v=T2gXMG9Et6I', 'https://www.youtube.com/watch?v=ym8RO3dZ1Wo', 'https://www.youtube.com/watch?v=AWa5xhoEM0s', 'https://www.youtube.com/watch?v=u-Sgs6FeE4c', 'https://www.youtube.com/watch?v=cpt6eOdyL-I', 'https://www.youtube.com/watch?v=6XOgFOGmmdQ', 'https://www.youtube.com/watch?v=2TsN532cQH4', 'https://www.youtube.com/watch?v=oCdUxpVre2c', 'https://www.youtube.com/watch?v=nI3n9LaImns', 'https://www.youtube.com/watch?v=AKKc5Z6WFxc', 'https://www.youtube.com/watch?v=Fl0jZf0CbIo', 'https://www.youtube.com/watch?v=6o_imX26Gm8', 'https://www.youtube.com/watch?v=nkvsqSZ2LyY', 'https://www.youtube.com/watch?v=dFCskGKuQzQ', 'https://www.youtube.com/watch?v=WiOKjzERxrI', 'https://www.youtube.com/watch?v=yb6Z2-9u7Rw', 'https://www.youtube.com/watch?v=vU3MVB5IxUY', 'https://www.youtube.com/watch?v=nj5-kE9unCk', 'https://www.youtube.com/watch?v=M3TSqV0G_dk', 'https://www.youtube.com/watch?v=uAbfW8PhM2s', 'https://www.youtube.com/watch?v=p4rWvfLkxGI', 'https://www.youtube.com/watch?v=3cfgBA_kBsU', 'https://www.youtube.com/watch?v=qxN0hs8wTKs', 'https://www.youtube.com/watch?v=GfX7yqUkMZU', 'https://www.youtube.com/watch?v=QiSg43ELAPQ', 'https://www.youtube.com/watch?v=p_Eh63K913M', 'https://www.youtube.com/watch?v=BjKL5_nd5YQ', 'https://www.youtube.com/watch?v=H6n72VaZvYg', 'https://www.youtube.com/watch?v=PbLxWlaIf40', 'https://www.youtube.com/watch?v=f4hC-h7iyRc', 'https://www.youtube.com/watch?v=k-yplHIhwRc', 'https://www.youtube.com/watch?v=WxQ-M0l9Wf0', 'https://www.youtube.com/watch?v=j9lUFulT95E', 'https://www.youtube.com/watch?v=DxNQObgXCTY', 'https://www.youtube.com/watch?v=C9mjU7zQMvk', 'https://www.youtube.com/watch?v=kJaAb6Syn3k', 'https://www.youtube.com/watch?v=_R702IW3rMY', 'https://www.youtube.com/watch?v=GkAU0n4hWp4', 'https://www.youtube.com/watch?v=jj5seGyN_oI', 'https://www.youtube.com/watch?v=dRGUHegy9HU', 'https://www.youtube.com/watch?v=qbovhN6GOpA', 'https://www.youtube.com/watch?v=77-F8fWn1Io', 'https://www.youtube.com/watch?v=uEz7t-BpBVE', 'https://www.youtube.com/watch?v=_MMXRdEXwbc', 'https://www.youtube.com/watch?v=kZ5S9wlfsx4', 'https://www.youtube.com/watch?v=DbDzHLIUiQk', 'https://www.youtube.com/watch?v=qi4DaaQrCWg', 'https://www.youtube.com/watch?v=h-of0eWJ_jg', 'https://www.youtube.com/watch?v=e0BtU3udtLw', 'https://www.youtube.com/watch?v=awxu0kISa7Q', 'https://www.youtube.com/watch?v=mzLo7Z8GYdY', 'https://www.youtube.com/watch?v=0FfQDPxOqdY', 'https://www.youtube.com/watch?v=zwAxgBFK0NM', 'https://www.youtube.com/watch?v=wyaJF9Nc5So', 'https://www.youtube.com/watch?v=5Z0hp3LzW3k', 'https://www.youtube.com/watch?v=Kn72q5sJkYQ', 'https://www.youtube.com/watch?v=OYbYm2qJzKo', 'https://www.youtube.com/watch?v=GwYRtYm8kE0', 'https://www.youtube.com/watch?v=fsvAkVbRLkA', 'https://www.youtube.com/watch?v=IQhzYuw1ZvQ', 'https://www.youtube.com/watch?v=rwdRgmqxDQA', 'https://www.youtube.com/watch?v=LZk5ms4lBOk', 'https://www.youtube.com/watch?v=AZ2MWu8fvdc', 'https://www.youtube.com/watch?v=u7XDKd1AyeE', 'https://www.youtube.com/watch?v=RWUgdUxpVZs', 'https://www.youtube.com/watch?v=JYDet0XE2Jg', 'https://www.youtube.com/watch?v=HW8vhAsfl_c', 'https://www.youtube.com/watch?v=sVfP-wGHEgs', 'https://www.youtube.com/watch?v=-bUzPp-U6uY', 'https://www.youtube.com/watch?v=Vb_imxddTKM', 'https://www.youtube.com/watch?v=4V0Y_nNlT8Q', 'https://www.youtube.com/watch?v=-XA3IC6NMrw', 'https://www.youtube.com/watch?v=5Q-F9F_jRCM', 'https://www.youtube.com/watch?v=CwiD8-lb3tc', 'https://www.youtube.com/watch?v=xLozlQHOE9o', 'https://www.youtube.com/watch?v=iu6hb64KOlM', 'https://www.youtube.com/watch?v=ymrAbcj38VE', 'https://www.youtube.com/watch?v=N8Rzq7tE2eQ', 'https://www.youtube.com/watch?v=WIvQ-VvW3h4', 'https://www.youtube.com/watch?v=ABJr3AM4efI', 'https://www.youtube.com/watch?v=NnidHxZVmEE', 'https://www.youtube.com/watch?v=s2dYebjvx5c', 'https://www.youtube.com/watch?v=2cn5nzvcOrQ', 'https://www.youtube.com/watch?v=amKPJ6C8qpw', 'https://www.youtube.com/watch?v=ueTDYjtvSBI', 'https://www.youtube.com/watch?v=YRj1LMn0Rwc', 'https://www.youtube.com/watch?v=zOfEMVlBEgA', 'https://www.youtube.com/watch?v=YP3wY3KhLPc', 'https://www.youtube.com/watch?v=RFvDXjMUekw', 'https://www.youtube.com/watch?v=qG2pwldjJy0', 'https://www.youtube.com/watch?v=koiV_cXU5jY', 'https://www.youtube.com/watch?v=ssLYXXStf-Q', 'https://www.youtube.com/watch?v=D4vIbuo2iAw', 'https://www.youtube.com/watch?v=g2Q_7AGIy78', 'https://www.youtube.com/watch?v=1hhu_42gsxg', 'https://www.youtube.com/watch?v=BLXw9Mj4cgE', 'https://www.youtube.com/watch?v=srojr2KlCIM', 'https://www.youtube.com/watch?v=pwZgxyBvbdM', 'https://www.youtube.com/watch?v=tu0D9SZ84mI', 'https://www.youtube.com/watch?v=dKvAhZX_Q9E', 'https://www.youtube.com/watch?v=_9D-t6EE7vs', 'https://www.youtube.com/watch?v=vkPHsh0iqMc', 'https://www.youtube.com/watch?v=TmBHL8djRD4', 'https://www.youtube.com/watch?v=7nlCXVHEXIY', 'https://www.youtube.com/watch?v=f2qGyMMvWow', 'https://www.youtube.com/watch?v=lmduqVOAcl8', 'https://www.youtube.com/watch?v=o7Z8lDdR9Vg', 'https://www.youtube.com/watch?v=7zFTrR7epO0']"
      ]
     },
     "execution_count": 11,
     "metadata": {},
     "output_type": "execute_result"
    }
   ],
   "source": [
    "playlist"
   ]
  },
  {
   "cell_type": "code",
   "execution_count": 14,
   "id": "57ff0c7c",
   "metadata": {},
   "outputs": [
    {
     "name": "stdout",
     "output_type": "stream",
     "text": [
      "001 尚硅谷react教程 react简介\n",
      "002 尚硅谷react教程 hello react案例\n",
      "003 尚硅谷react教程 虚拟DOM的两种创建方式\n"
     ]
    }
   ],
   "source": [
    "for video in playlist.videos[:3]:\n",
    "    print(video.title)"
   ]
  },
  {
   "cell_type": "code",
   "execution_count": 20,
   "id": "1671758b",
   "metadata": {},
   "outputs": [
    {
     "name": "stdout",
     "output_type": "stream",
     "text": [
      "<Stream: itag=\"18\" mime_type=\"video/mp4\" res=\"360p\" fps=\"25fps\" vcodec=\"avc1.42001E\" acodec=\"mp4a.40.2\" progressive=\"True\" type=\"video\">\n",
      "<Stream: itag=\"22\" mime_type=\"video/mp4\" res=\"720p\" fps=\"25fps\" vcodec=\"avc1.64001F\" acodec=\"mp4a.40.2\" progressive=\"True\" type=\"video\">\n",
      "<Stream: itag=\"136\" mime_type=\"video/mp4\" res=\"720p\" fps=\"25fps\" vcodec=\"avc1.64001f\" progressive=\"False\" type=\"video\">\n",
      "<Stream: itag=\"135\" mime_type=\"video/mp4\" res=\"480p\" fps=\"25fps\" vcodec=\"avc1.4d400a\" progressive=\"False\" type=\"video\">\n",
      "<Stream: itag=\"134\" mime_type=\"video/mp4\" res=\"360p\" fps=\"25fps\" vcodec=\"avc1.4d401e\" progressive=\"False\" type=\"video\">\n",
      "<Stream: itag=\"133\" mime_type=\"video/mp4\" res=\"240p\" fps=\"25fps\" vcodec=\"avc1.4d400c\" progressive=\"False\" type=\"video\">\n",
      "<Stream: itag=\"160\" mime_type=\"video/mp4\" res=\"144p\" fps=\"25fps\" vcodec=\"avc1.4d400b\" progressive=\"False\" type=\"video\">\n"
     ]
    }
   ],
   "source": [
    "mp4s = video.streams.filter(mime_type=\"video/mp4\")\n",
    "for mp4 in mp4s:\n",
    "\n",
    "    print(mp4)"
   ]
  },
  {
   "cell_type": "code",
   "execution_count": 23,
   "id": "8df20e2a",
   "metadata": {},
   "outputs": [
    {
     "data": {
      "text/plain": [
       "'144p'"
      ]
     },
     "execution_count": 23,
     "metadata": {},
     "output_type": "execute_result"
    }
   ],
   "source": [
    "mp4.resolution"
   ]
  },
  {
   "cell_type": "code",
   "execution_count": 26,
   "id": "45477cf7",
   "metadata": {},
   "outputs": [
    {
     "data": {
      "text/plain": [
       "['0', '0', '0', '0', '0', '0', '4']"
      ]
     },
     "execution_count": 26,
     "metadata": {},
     "output_type": "execute_result"
    }
   ],
   "source": [
    "[v.resolution[2:-1] for v in mp4s]"
   ]
  },
  {
   "cell_type": "code",
   "execution_count": 30,
   "id": "37c8b578",
   "metadata": {},
   "outputs": [
    {
     "data": {
      "text/plain": [
       "720"
      ]
     },
     "execution_count": 30,
     "metadata": {},
     "output_type": "execute_result"
    }
   ],
   "source": [
    "max([int(v.resolution[0:-1]) for v in mp4s])"
   ]
  },
  {
   "cell_type": "code",
   "execution_count": 34,
   "id": "dc30079c",
   "metadata": {},
   "outputs": [
    {
     "name": "stdout",
     "output_type": "stream",
     "text": [
      "<Stream: itag=\"22\" mime_type=\"video/mp4\" res=\"720p\" fps=\"25fps\" vcodec=\"avc1.64001F\" acodec=\"mp4a.40.2\" progressive=\"True\" type=\"video\">\n",
      "<Stream: itag=\"136\" mime_type=\"video/mp4\" res=\"720p\" fps=\"25fps\" vcodec=\"avc1.64001f\" progressive=\"False\" type=\"video\">\n"
     ]
    }
   ],
   "source": [
    "mp4s = video.streams.filter(res=\"720p\")\n",
    "for v in mp4s:\n",
    "    print(v)"
   ]
  },
  {
   "cell_type": "code",
   "execution_count": 44,
   "id": "fe4537d6",
   "metadata": {},
   "outputs": [
    {
     "name": "stdout",
     "output_type": "stream",
     "text": [
      "max_res: 720\n",
      "<Stream: itag=\"22\" mime_type=\"video/mp4\" res=\"720p\" fps=\"25fps\" vcodec=\"avc1.64001F\" acodec=\"mp4a.40.2\" progressive=\"True\" type=\"video\">\n",
      "hello\n"
     ]
    }
   ],
   "source": [
    "yt = YouTube('https://www.youtube.com/watch?v=Uz_EhDwUnRg')\n",
    "streams_mp4 = video.streams.filter(mime_type=\"video/mp4\")\n",
    "max_res = max([int(v.resolution[0:-1]) for v in streams_mp4])\n",
    "print(f'max_res: {max_res}')\n",
    "streams_high_res = yt.streams.filter(res=str(max_res)+'p', progressive=\"True\")\n",
    "for v in streams_high_res:\n",
    "    print(v)\n",
    "print('hello')"
   ]
  },
  {
   "cell_type": "code",
   "execution_count": 46,
   "id": "a8720456",
   "metadata": {},
   "outputs": [
    {
     "data": {
      "text/plain": [
       "22"
      ]
     },
     "execution_count": 46,
     "metadata": {},
     "output_type": "execute_result"
    }
   ],
   "source": [
    "v.itag"
   ]
  },
  {
   "cell_type": "code",
   "execution_count": 56,
   "id": "5067e160",
   "metadata": {},
   "outputs": [],
   "source": [
    "def download_high_res(video_url):\n",
    "    yt = YouTube(video_url)\n",
    "    print(f'Downloading {yt.title} started')\n",
    "    streams_mp4 = video.streams.filter(mime_type=\"video/mp4\")\n",
    "    max_res = max([int(v.resolution[0:-1]) for v in streams_mp4])\n",
    "    print(f'max_res: {max_res}')\n",
    "    streams_high_res = yt.streams.filter(res=str(max_res)+'p', progressive=\"True\")\n",
    "    itag = streams_high_res[0].itag\n",
    "    print(f'itag: {itag}')\n",
    "    try:\n",
    "        yt.streams.get_by_itag(itag).download()\n",
    "        print(f'Downloading {yt.title} succeed')\n",
    "    except:\n",
    "        print(f'Downloading {yt.title} failed')"
   ]
  },
  {
   "cell_type": "code",
   "execution_count": 57,
   "id": "8160d214",
   "metadata": {},
   "outputs": [],
   "source": [
    "def download_list(list_url):\n",
    "    playlist = Playlist(list_url)\n",
    "    for video_url in playlist.video_urls:\n",
    "        download_high_res(video_url)\n",
    "    "
   ]
  },
  {
   "cell_type": "code",
   "execution_count": 58,
   "id": "4b62ccf4",
   "metadata": {},
   "outputs": [
    {
     "name": "stdout",
     "output_type": "stream",
     "text": [
      "Downloading 周杰倫 Jay Chou【夜曲 Nocturne】-Official Music Video started\n",
      "max_res: 720\n",
      "itag: 22\n",
      "Downloading 周杰倫 Jay Chou【夜曲 Nocturne】-Official Music Video succeed\n",
      "Downloading 周杰倫 Jay Chou【藍色風暴 Blue Storm】-Official Music Video started\n",
      "max_res: 720\n"
     ]
    },
    {
     "ename": "IndexError",
     "evalue": "list index out of range",
     "output_type": "error",
     "traceback": [
      "\u001b[1;31m---------------------------------------------------------------------------\u001b[0m",
      "\u001b[1;31mIndexError\u001b[0m                                Traceback (most recent call last)",
      "Cell \u001b[1;32mIn[58], line 2\u001b[0m\n\u001b[0;32m      1\u001b[0m url \u001b[39m=\u001b[39m \u001b[39m'\u001b[39m\u001b[39mhttps://www.youtube.com/watch?v=6Q0Pd53mojY&list=OLAK5uy_mXjtXOV2DmOWz7qCDxhE93IeKi2BI4EiI\u001b[39m\u001b[39m'\u001b[39m\n\u001b[1;32m----> 2\u001b[0m download_list(url)\n",
      "Cell \u001b[1;32mIn[57], line 4\u001b[0m, in \u001b[0;36mdownload_list\u001b[1;34m(list_url)\u001b[0m\n\u001b[0;32m      2\u001b[0m playlist \u001b[39m=\u001b[39m Playlist(list_url)\n\u001b[0;32m      3\u001b[0m \u001b[39mfor\u001b[39;00m video_url \u001b[39min\u001b[39;00m playlist\u001b[39m.\u001b[39mvideo_urls:\n\u001b[1;32m----> 4\u001b[0m     download_high_res(video_url)\n",
      "Cell \u001b[1;32mIn[56], line 8\u001b[0m, in \u001b[0;36mdownload_high_res\u001b[1;34m(video_url)\u001b[0m\n\u001b[0;32m      6\u001b[0m \u001b[39mprint\u001b[39m(\u001b[39mf\u001b[39m\u001b[39m'\u001b[39m\u001b[39mmax_res: \u001b[39m\u001b[39m{\u001b[39;00mmax_res\u001b[39m}\u001b[39;00m\u001b[39m'\u001b[39m)\n\u001b[0;32m      7\u001b[0m streams_high_res \u001b[39m=\u001b[39m yt\u001b[39m.\u001b[39mstreams\u001b[39m.\u001b[39mfilter(res\u001b[39m=\u001b[39m\u001b[39mstr\u001b[39m(max_res)\u001b[39m+\u001b[39m\u001b[39m'\u001b[39m\u001b[39mp\u001b[39m\u001b[39m'\u001b[39m, progressive\u001b[39m=\u001b[39m\u001b[39m\"\u001b[39m\u001b[39mTrue\u001b[39m\u001b[39m\"\u001b[39m)\n\u001b[1;32m----> 8\u001b[0m itag \u001b[39m=\u001b[39m streams_high_res[\u001b[39m0\u001b[39;49m]\u001b[39m.\u001b[39mitag\n\u001b[0;32m      9\u001b[0m \u001b[39mprint\u001b[39m(\u001b[39mf\u001b[39m\u001b[39m'\u001b[39m\u001b[39mitag: \u001b[39m\u001b[39m{\u001b[39;00mitag\u001b[39m}\u001b[39;00m\u001b[39m'\u001b[39m)\n\u001b[0;32m     10\u001b[0m \u001b[39mtry\u001b[39;00m:\n",
      "File \u001b[1;32mc:\\Users\\Mike\\Desktop\\github\\pyTube\\venv\\lib\\site-packages\\pytube\\query.py:364\u001b[0m, in \u001b[0;36mStreamQuery.__getitem__\u001b[1;34m(self, i)\u001b[0m\n\u001b[0;32m    363\u001b[0m \u001b[39mdef\u001b[39;00m \u001b[39m__getitem__\u001b[39m(\u001b[39mself\u001b[39m, i: Union[\u001b[39mslice\u001b[39m, \u001b[39mint\u001b[39m]):\n\u001b[1;32m--> 364\u001b[0m     \u001b[39mreturn\u001b[39;00m \u001b[39mself\u001b[39;49m\u001b[39m.\u001b[39;49mfmt_streams[i]\n",
      "\u001b[1;31mIndexError\u001b[0m: list index out of range"
     ]
    }
   ],
   "source": [
    "url = 'https://www.youtube.com/watch?v=6Q0Pd53mojY&list=OLAK5uy_mXjtXOV2DmOWz7qCDxhE93IeKi2BI4EiI'\n",
    "download_list(url)"
   ]
  },
  {
   "cell_type": "code",
   "execution_count": null,
   "id": "a414c8cb",
   "metadata": {},
   "outputs": [],
   "source": []
  }
 ],
 "metadata": {
  "kernelspec": {
   "display_name": "Python 3.10.7 ('venv': venv)",
   "language": "python",
   "name": "python3"
  },
  "language_info": {
   "codemirror_mode": {
    "name": "ipython",
    "version": 3
   },
   "file_extension": ".py",
   "mimetype": "text/x-python",
   "name": "python",
   "nbconvert_exporter": "python",
   "pygments_lexer": "ipython3",
   "version": "3.10.7"
  },
  "vscode": {
   "interpreter": {
    "hash": "a0aa044441082fa17ecf081c8d40a09858633149fbc6a7cab1796dd786764c58"
   }
  }
 },
 "nbformat": 4,
 "nbformat_minor": 5
}
